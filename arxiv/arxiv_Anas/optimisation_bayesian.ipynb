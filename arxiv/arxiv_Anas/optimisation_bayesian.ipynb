{
 "cells": [
  {
   "cell_type": "code",
   "execution_count": 1,
   "id": "b37125e2-a9c9-4d03-82f4-97a7a1c50dfa",
   "metadata": {},
   "outputs": [],
   "source": [
    "from model import GAT\n",
    "from train import train,test\n",
    "import argparse\n",
    "import torch\n",
    "from ogb.nodeproppred import PygNodePropPredDataset, Evaluator\n",
    "import torch_geometric.transforms as T"
   ]
  },
  {
   "cell_type": "code",
   "execution_count": 2,
   "id": "e2f61901-4f87-4ae5-9319-8c78931168d8",
   "metadata": {},
   "outputs": [],
   "source": [
    "def main(dataset_name,hidden_chanels,num_layers,dropout):\n",
    "    epochs = 500\n",
    "    hidden_chanels = int(hidden_chanels)\n",
    "    num_layers = int(num_layers)\n",
    "    epochs = int(epochs)\n",
    "    torch.manual_seed(2020)\n",
    "    device = torch.device('cuda' if torch.cuda.is_available() else 'cpu')\n",
    "    dataset = PygNodePropPredDataset(name=dataset_name,transform=T.ToSparseTensor())\n",
    "    data = dataset[0]\n",
    "    data.adj_t = data.adj_t.to_symmetric()\n",
    "    data = data.to(device)\n",
    "    split_idx = dataset.get_idx_split()\n",
    "    train_idx = split_idx['train'].to(device)\n",
    "    model = GAT(data.num_features, hidden_chanels,dataset.num_classes, num_layers,dropout).to(device)\n",
    "    evaluator = Evaluator(name=dataset_name)\n",
    "    optimizer = torch.optim.Adam(model.parameters(), lr=0.001)\n",
    "    valid_acc_list = []\n",
    "    for epoch in range(1, epochs):\n",
    "                loss = train(model, data, train_idx, optimizer)\n",
    "                result = test(model, data, split_idx, evaluator)\n",
    "                train_acc, valid_acc,test_acc = result\n",
    "                valid_acc_list.append(valid_acc)\n",
    "                if epoch % 10 == 0:\n",
    "                    train_acc, valid_acc,test_acc = result\n",
    "                    print(f'Epoch: {epoch:02d}, '\n",
    "                          f'Loss: {loss:.4f}, '\n",
    "                          f'Train: {100 * train_acc:.2f}%, '\n",
    "                          f'Valid: {100 * valid_acc:.2f}% '\n",
    "                          f'Test: {100 * test_acc:.2f}% ')\n",
    "    return max(valid_acc_list)"
   ]
  },
  {
   "cell_type": "code",
   "execution_count": 3,
   "id": "327a0815-38b0-4eec-989d-4166c565e51b",
   "metadata": {},
   "outputs": [],
   "source": [
    "from functools import partial\n",
    "\n",
    "database = 'ogbn-arxiv'\n",
    "fit_with_partial = partial(main,database)"
   ]
  },
  {
   "cell_type": "code",
   "execution_count": 4,
   "id": "dbdf6d7a-b0ce-4b21-9702-a1f90fddc563",
   "metadata": {},
   "outputs": [],
   "source": [
    "pbounds = {'hidden_chanels':(10,100),'num_layers':(2,7),'dropout':(0.2,0.5)}"
   ]
  },
  {
   "cell_type": "code",
   "execution_count": 5,
   "id": "bf34f25d-6dfb-4fbd-9c7f-55c15d55195f",
   "metadata": {},
   "outputs": [],
   "source": [
    "from bayes_opt import BayesianOptimization\n",
    "\n",
    "optimizer = BayesianOptimization(\n",
    "    f=fit_with_partial,\n",
    "    pbounds=pbounds,\n",
    "    verbose=2,  # verbose = 1 prints only when a maximum is observed, verbose = 0 is silent\n",
    "    random_state=1,\n",
    ")"
   ]
  },
  {
   "cell_type": "code",
   "execution_count": null,
   "id": "d343c097-68d3-43e5-8d95-837375db710e",
   "metadata": {},
   "source": [
    "optimizer.maximize(init_points=10, n_iter=30,)\n",
    "for i, res in enumerate(optimizer.res):\n",
    "    print(\"Iteration {}: \\n\\t{}\".format(i, res))\n",
    "\n",
    "print(optimizer.max)\n",
    "f = open(\"params.txt\", \"a\")\n",
    "f.write(optimizer.max)\n",
    "f.close()"
   ]
  },
  {
   "cell_type": "code",
   "execution_count": null,
   "id": "a88911c8-3e5b-4a05-9b77-917f4af5a29a",
   "metadata": {},
   "outputs": [],
   "source": []
  }
 ],
 "metadata": {
  "kernelspec": {
   "display_name": "Python 3",
   "language": "python",
   "name": "python3"
  },
  "language_info": {
   "codemirror_mode": {
    "name": "ipython",
    "version": 3
   },
   "file_extension": ".py",
   "mimetype": "text/x-python",
   "name": "python",
   "nbconvert_exporter": "python",
   "pygments_lexer": "ipython3",
   "version": "3.9.7"
  }
 },
 "nbformat": 4,
 "nbformat_minor": 5
}
