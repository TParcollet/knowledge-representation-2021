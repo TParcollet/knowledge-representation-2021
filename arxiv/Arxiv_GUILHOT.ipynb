{
 "cells": [
  {
   "cell_type": "code",
   "execution_count": 1,
   "id": "0a5f60ba",
   "metadata": {},
   "outputs": [],
   "source": [
    "from ogb.nodeproppred import PygNodePropPredDataset\n",
    "from ogb.nodeproppred import Evaluator\n",
    "\n",
    "import torch\n",
    "from torch import nn\n",
    "from torch import Tensor\n",
    "import torch.optim as optim\n",
    "from torch.utils.tensorboard import SummaryWriter\n",
    "\n",
    "import torch_geometric.data as pyg_data\n",
    "from torch_geometric.data import DataLoader\n",
    "from torch_geometric.data import Batch\n",
    "from torch_geometric.data import DataListLoader\n",
    "import torch_geometric.nn as pyg_nn\n",
    "import torch_geometric.utils as pyg_utils\n",
    "import torch_geometric.transforms as T\n",
    "\n",
    "import matplotlib.pyplot as plt"
   ]
  },
  {
   "cell_type": "code",
   "execution_count": 2,
   "id": "f6b4c9aa",
   "metadata": {
    "scrolled": true
   },
   "outputs": [
    {
     "name": "stdout",
     "output_type": "stream",
     "text": [
      "Device available for running: \n",
      "cuda:1\n",
      "1.10.1\n"
     ]
    }
   ],
   "source": [
    "device = torch.device(\"cuda:1\" if torch.cuda.is_available() else \"cpu\")\n",
    "print(\"Device available for running: \")\n",
    "print(device)\n",
    "print(torch.__version__)"
   ]
  },
  {
   "cell_type": "code",
   "execution_count": 3,
   "id": "07d0dfc6",
   "metadata": {},
   "outputs": [],
   "source": [
    "torch.use_deterministic_algorithms(False)\n",
    "torch.manual_seed(0)\n",
    "modelPath = \"BestArxivPredNode.mdl\""
   ]
  },
  {
   "cell_type": "code",
   "execution_count": 4,
   "id": "ec343d40",
   "metadata": {
    "scrolled": true
   },
   "outputs": [],
   "source": [
    "dataset = PygNodePropPredDataset(name='ogbn-arxiv', transform=T.ToSparseTensor())\n",
    "split_idx = dataset.get_idx_split()\n",
    "train_idx, dev_idx, test_idx = split_idx[\"train\"].to(device), split_idx[\"valid\"].to(device), split_idx[\"test\"].to(device)\n",
    "graph = dataset[0]\n",
    "graph.adj_t = graph.adj_t.to_symmetric().to(device)\n",
    "graph.x = graph.x.float().to(device)\n",
    "graph.y = graph.y.to(device)\n"
   ]
  },
  {
   "cell_type": "code",
   "execution_count": 5,
   "id": "941f69b0",
   "metadata": {
    "scrolled": false
   },
   "outputs": [
    {
     "name": "stdout",
     "output_type": "stream",
     "text": [
      "40\n",
      "tensor(3.7181, device='cuda:1', grad_fn=<NllLossBackward0>)\n",
      "0 :  {'acc': 0.07627772744051814}\n",
      "tensor(1.4369, device='cuda:1', grad_fn=<NllLossBackward0>)\n",
      "50 :  {'acc': 0.6299540253028625}\n",
      "tensor(1.1819, device='cuda:1', grad_fn=<NllLossBackward0>)\n",
      "100 :  {'acc': 0.6792845397496561}\n",
      "tensor(1.1022, device='cuda:1', grad_fn=<NllLossBackward0>)\n",
      "150 :  {'acc': 0.6912312493707843}\n",
      "tensor(1.0647, device='cuda:1', grad_fn=<NllLossBackward0>)\n",
      "200 :  {'acc': 0.7000570488942582}\n",
      "tensor(1.0384, device='cuda:1', grad_fn=<NllLossBackward0>)\n",
      "250 :  {'acc': 0.7022718883183999}\n",
      "tensor(1.0260, device='cuda:1', grad_fn=<NllLossBackward0>)\n",
      "300 :  {'acc': 0.7037148897614014}\n",
      "tensor(1.0029, device='cuda:1', grad_fn=<NllLossBackward0>)\n",
      "350 :  {'acc': 0.7095204537065002}\n",
      "tensor(0.9925, device='cuda:1', grad_fn=<NllLossBackward0>)\n",
      "400 :  {'acc': 0.7031779589919125}\n",
      "tensor(0.9757, device='cuda:1', grad_fn=<NllLossBackward0>)\n",
      "450 :  {'acc': 0.7135809926507601}\n",
      "tensor(0.9663, device='cuda:1', grad_fn=<NllLossBackward0>)\n",
      "500 :  {'acc': 0.7094197791872211}\n",
      "tensor(0.9597, device='cuda:1', grad_fn=<NllLossBackward0>)\n",
      "550 :  {'acc': 0.7134132017852948}\n",
      "tensor(0.9442, device='cuda:1', grad_fn=<NllLossBackward0>)\n",
      "600 :  {'acc': 0.7142857142857143}\n",
      "tensor(0.9443, device='cuda:1', grad_fn=<NllLossBackward0>)\n",
      "650 :  {'acc': 0.7134467599583879}\n",
      "tensor(0.9344, device='cuda:1', grad_fn=<NllLossBackward0>)\n",
      "700 :  {'acc': 0.7160978556327393}\n",
      "tensor(0.9397, device='cuda:1', grad_fn=<NllLossBackward0>)\n",
      "750 :  {'acc': 0.7128427128427128}\n",
      "tensor(0.9228, device='cuda:1', grad_fn=<NllLossBackward0>)\n",
      "800 :  {'acc': 0.7167354609215074}\n",
      "tensor(0.9261, device='cuda:1', grad_fn=<NllLossBackward0>)\n",
      "850 :  {'acc': 0.7135809926507601}\n",
      "tensor(0.9147, device='cuda:1', grad_fn=<NllLossBackward0>)\n",
      "900 :  {'acc': 0.7124735729386892}\n",
      "tensor(0.9107, device='cuda:1', grad_fn=<NllLossBackward0>)\n",
      "950 :  {'acc': 0.7152253431323199}\n"
     ]
    }
   ],
   "source": [
    "evaluator = Evaluator(name = \"ogbn-arxiv\")\n",
    "outputchan = graph.y.max().item()+1\n",
    "print(outputchan)\n",
    "model = pyg_nn.GraphSAGE(in_channels= 128, hidden_channels= 256, out_channels = outputchan, num_layers= 3, dropout = 0.5)\n",
    "model = model.to(device)\n",
    "opt = optim.Adam(model.parameters(), lr=0.01)\n",
    "loss_fn = nn.CrossEntropyLoss()\n",
    "\n",
    "bestDevScore = -1\n",
    "devScore=[]\n",
    "losstab=[]\n",
    "\n",
    "for epoch in range(1000):\n",
    "        \n",
    "        #Train Model        \n",
    "        model.train()        \n",
    "        opt.zero_grad()\n",
    "        pred = model(graph.x,graph.adj_t)\n",
    "        label = graph.y\n",
    "\n",
    "        # Mask node\n",
    "        pred = torch.index_select(pred, 0, train_idx)\n",
    "        label = torch.index_select(label, 0, train_idx)\n",
    "        \n",
    "        loss = loss_fn(pred,label.view(-1)) \n",
    "        loss.backward()\n",
    "        opt.step()\n",
    "        losstab.append(loss)\n",
    "        \n",
    "        \n",
    "        #Evaluate on dev\n",
    "        model.eval()\n",
    "        pred = model(graph.x,graph.adj_t)\n",
    "        label = graph.y\n",
    "        \n",
    "        # Mask node\n",
    "        pred = torch.index_select(pred, 0, dev_idx)\n",
    "        label = torch.index_select(label, 0, dev_idx)\n",
    "        \n",
    "        pred = pred.argmax(dim=1)\n",
    "        result_dict = evaluator.eval({\"y_true\": pred.view(-1,1).long(), \"y_pred\": label.long()})\n",
    "        devScore.append(result_dict['acc'])\n",
    "        if bestDevScore < result_dict['acc']:\n",
    "            bestDevScore = result_dict['acc']\n",
    "            torch.save(model.state_dict(),modelPath)\n",
    "            \n",
    "        if epoch % 50 == 0:\n",
    "            print(loss)\n",
    "            print(epoch,\": \", result_dict)\n",
    "     "
   ]
  },
  {
   "cell_type": "code",
   "execution_count": 6,
   "id": "6d9c7c29",
   "metadata": {},
   "outputs": [
    {
     "data": {
      "text/plain": [
       "[<matplotlib.lines.Line2D at 0x7ff716318430>]"
      ]
     },
     "execution_count": 6,
     "metadata": {},
     "output_type": "execute_result"
    },
    {
     "data": {
      "image/png": "[encoded data removed]",
      "text/plain": [
       "<Figure size 432x288 with 1 Axes>"
      ]
     },
     "metadata": {
      "needs_background": "light"
     },
     "output_type": "display_data"
    }
   ],
   "source": [
    "plt.plot(devScore)"
   ]
  },
  {
   "cell_type": "code",
   "execution_count": 7,
   "id": "bf596ca2",
   "metadata": {},
   "outputs": [
    {
     "name": "stdout",
     "output_type": "stream",
     "text": [
      "Dev score: 0.7175744152488338\n",
      "Test score: 0.7081044379976544\n"
     ]
    }
   ],
   "source": [
    "model = pyg_nn.GraphSAGE(in_channels= 128, hidden_channels= 256, out_channels = outputchan, num_layers= 3, dropout = 0.5)\n",
    "model.load_state_dict(torch.load(modelPath))\n",
    "model = model.to(device)\n",
    "\n",
    "model.eval()\n",
    "pred = model(graph.x,graph.adj_t)\n",
    "label = graph.y\n",
    "# Mask node\n",
    "pred = torch.index_select(pred, 0, dev_idx)\n",
    "label = torch.index_select(label, 0, dev_idx)\n",
    "pred = pred.argmax(dim=1)\n",
    "result_dict = evaluator.eval({\"y_true\": pred.view(-1,1).long(), \"y_pred\": label.long()})\n",
    "print(\"Dev score:\", result_dict[\"acc\"])\n",
    "\n",
    "model.eval()\n",
    "pred = model(graph.x,graph.adj_t)\n",
    "label = graph.y\n",
    "# Mask node\n",
    "pred = torch.index_select(pred, 0, test_idx)\n",
    "label = torch.index_select(label, 0, test_idx)\n",
    "pred = pred.argmax(dim=1)\n",
    "result_dict = evaluator.eval({\"y_true\": pred.view(-1,1).long(), \"y_pred\": label.long()})\n",
    "print(\"Test score:\", result_dict[\"acc\"])"
   ]
  },
  {
   "cell_type": "code",
   "execution_count": null,
   "id": "0796f5ed",
   "metadata": {},
   "outputs": [],
   "source": []
  }
 ],
 "metadata": {
  "kernelspec": {
   "display_name": "Python 3",
   "language": "python",
   "name": "python3"
  },
  "language_info": {
   "codemirror_mode": {
    "name": "ipython",
    "version": 3
   },
   "file_extension": ".py",
   "mimetype": "text/x-python",
   "name": "python",
   "nbconvert_exporter": "python",
   "pygments_lexer": "ipython3",
   "version": "3.9.5"
  }
 },
 "nbformat": 4,
 "nbformat_minor": 5
}
