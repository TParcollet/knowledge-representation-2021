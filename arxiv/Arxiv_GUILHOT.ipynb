{
 "cells": [
  {
   "cell_type": "code",
   "execution_count": 1,
   "id": "0a5f60ba",
   "metadata": {},
   "outputs": [],
   "source": [
    "from ogb.nodeproppred import PygNodePropPredDataset\n",
    "from ogb.nodeproppred import Evaluator\n",
    "\n",
    "import torch\n",
    "from torch import nn\n",
    "from torch import Tensor\n",
    "import torch.optim as optim\n",
    "from torch.utils.tensorboard import SummaryWriter\n",
    "\n",
    "import torch_geometric.data as pyg_data\n",
    "from torch_geometric.data import DataLoader\n",
    "from torch_geometric.data import Batch\n",
    "from torch_geometric.data import DataListLoader\n",
    "import torch_geometric.nn as pyg_nn\n",
    "import torch_geometric.utils as pyg_utils\n",
    "import torch_geometric.transforms as T\n",
    "\n",
    "import matplotlib.pyplot as plt"
   ]
  },
  {
   "cell_type": "code",
   "execution_count": 2,
   "id": "f6b4c9aa",
   "metadata": {
    "scrolled": true
   },
   "outputs": [
    {
     "name": "stdout",
     "output_type": "stream",
     "text": [
      "Device available for running: \n",
      "cuda:1\n",
      "1.10.1\n"
     ]
    }
   ],
   "source": [
    "device = torch.device(\"cuda:1\" if torch.cuda.is_available() else \"cpu\")\n",
    "print(\"Device available for running: \")\n",
    "print(device)\n",
    "print(torch.__version__)"
   ]
  },
  {
   "cell_type": "code",
   "execution_count": 3,
   "id": "07d0dfc6",
   "metadata": {},
   "outputs": [],
   "source": [
    "torch.use_deterministic_algorithms(False)\n",
    "torch.manual_seed(0)\n",
    "modelPath = \"BestArxivPredNode.mdl\""
   ]
  },
  {
   "cell_type": "code",
   "execution_count": 4,
   "id": "ec343d40",
   "metadata": {},
   "outputs": [],
   "source": [
    "dataset = PygNodePropPredDataset(name = \"ogbn-arxiv\")\n",
    "split_idx = dataset.get_idx_split()\n",
    "train_idx, dev_idx, test_idx = split_idx[\"train\"].to(device), split_idx[\"valid\"].to(device), split_idx[\"test\"].to(device)\n",
    "graph = dataset[0]\n",
    "graph.x = graph.x.float().to(device)\n",
    "graph.y = graph.y.to(device)\n",
    "graph.edge_index = graph.edge_index.to(device)\n"
   ]
  },
  {
   "cell_type": "code",
   "execution_count": 5,
   "id": "941f69b0",
   "metadata": {
    "scrolled": false
   },
   "outputs": [
    {
     "name": "stdout",
     "output_type": "stream",
     "text": [
      "40\n",
      "tensor(3.7099, device='cuda:1', grad_fn=<NllLossBackward0>)\n",
      "0 :  {'acc': 0.07634484378670425}\n",
      "tensor(1.6630, device='cuda:1', grad_fn=<NllLossBackward0>)\n",
      "50 :  {'acc': 0.5517970401691332}\n",
      "tensor(1.4427, device='cuda:1', grad_fn=<NllLossBackward0>)\n",
      "100 :  {'acc': 0.593677640189268}\n",
      "tensor(1.3598, device='cuda:1', grad_fn=<NllLossBackward0>)\n",
      "150 :  {'acc': 0.6059599315413269}\n",
      "tensor(1.3127, device='cuda:1', grad_fn=<NllLossBackward0>)\n",
      "200 :  {'acc': 0.6132756132756133}\n",
      "tensor(1.2803, device='cuda:1', grad_fn=<NllLossBackward0>)\n",
      "250 :  {'acc': 0.6158931507768717}\n",
      "tensor(1.2442, device='cuda:1', grad_fn=<NllLossBackward0>)\n",
      "300 :  {'acc': 0.619584549817108}\n",
      "tensor(1.2274, device='cuda:1', grad_fn=<NllLossBackward0>)\n",
      "350 :  {'acc': 0.6194167589516427}\n",
      "tensor(1.2043, device='cuda:1', grad_fn=<NllLossBackward0>)\n",
      "400 :  {'acc': 0.6236115305882748}\n",
      "tensor(1.1908, device='cuda:1', grad_fn=<NllLossBackward0>)\n",
      "450 :  {'acc': 0.626665324339743}\n",
      "tensor(1.1789, device='cuda:1', grad_fn=<NllLossBackward0>)\n",
      "500 :  {'acc': 0.6272358132823249}\n",
      "tensor(1.1636, device='cuda:1', grad_fn=<NllLossBackward0>)\n",
      "550 :  {'acc': 0.6268666733783013}\n",
      "tensor(1.1548, device='cuda:1', grad_fn=<NllLossBackward0>)\n",
      "600 :  {'acc': 0.6269002315513943}\n",
      "tensor(1.1392, device='cuda:1', grad_fn=<NllLossBackward0>)\n",
      "650 :  {'acc': 0.6258599281855096}\n",
      "tensor(1.1347, device='cuda:1', grad_fn=<NllLossBackward0>)\n",
      "700 :  {'acc': 0.6269002315513943}\n",
      "tensor(1.1347, device='cuda:1', grad_fn=<NllLossBackward0>)\n",
      "750 :  {'acc': 0.6273700459746971}\n",
      "tensor(1.1277, device='cuda:1', grad_fn=<NllLossBackward0>)\n",
      "800 :  {'acc': 0.6286788147253264}\n",
      "tensor(1.1232, device='cuda:1', grad_fn=<NllLossBackward0>)\n",
      "850 :  {'acc': 0.6271015805899527}\n",
      "tensor(1.1155, device='cuda:1', grad_fn=<NllLossBackward0>)\n",
      "900 :  {'acc': 0.6272358132823249}\n",
      "tensor(1.1118, device='cuda:1', grad_fn=<NllLossBackward0>)\n",
      "950 :  {'acc': 0.627873418571093}\n",
      "tensor(1.1110, device='cuda:1', grad_fn=<NllLossBackward0>)\n",
      "1000 :  {'acc': 0.6261955099164401}\n",
      "tensor(1.1064, device='cuda:1', grad_fn=<NllLossBackward0>)\n",
      "1050 :  {'acc': 0.6265646498204638}\n",
      "tensor(1.1034, device='cuda:1', grad_fn=<NllLossBackward0>)\n",
      "1100 :  {'acc': 0.6263297426088124}\n",
      "tensor(1.1024, device='cuda:1', grad_fn=<NllLossBackward0>)\n",
      "1150 :  {'acc': 0.6275378368401624}\n",
      "tensor(1.0952, device='cuda:1', grad_fn=<NllLossBackward0>)\n",
      "1200 :  {'acc': 0.6278398603979999}\n",
      "tensor(1.0936, device='cuda:1', grad_fn=<NllLossBackward0>)\n",
      "1250 :  {'acc': 0.6257592536662304}\n",
      "tensor(1.0909, device='cuda:1', grad_fn=<NllLossBackward0>)\n",
      "1300 :  {'acc': 0.6265982079935568}\n",
      "tensor(1.0882, device='cuda:1', grad_fn=<NllLossBackward0>)\n",
      "1350 :  {'acc': 0.6279740930903721}\n",
      "tensor(1.0884, device='cuda:1', grad_fn=<NllLossBackward0>)\n",
      "1400 :  {'acc': 0.6250209738581831}\n",
      "tensor(1.0828, device='cuda:1', grad_fn=<NllLossBackward0>)\n",
      "1450 :  {'acc': 0.6276049531863486}\n",
      "tensor(1.0854, device='cuda:1', grad_fn=<NllLossBackward0>)\n",
      "1500 :  {'acc': 0.6275378368401624}\n",
      "tensor(1.0864, device='cuda:1', grad_fn=<NllLossBackward0>)\n",
      "1550 :  {'acc': 0.6276385113594416}\n",
      "tensor(1.0817, device='cuda:1', grad_fn=<NllLossBackward0>)\n",
      "1600 :  {'acc': 0.625557904627672}\n",
      "tensor(1.0791, device='cuda:1', grad_fn=<NllLossBackward0>)\n",
      "1650 :  {'acc': 0.6282090003020235}\n",
      "tensor(1.0800, device='cuda:1', grad_fn=<NllLossBackward0>)\n",
      "1700 :  {'acc': 0.6277056277056277}\n",
      "tensor(1.0743, device='cuda:1', grad_fn=<NllLossBackward0>)\n",
      "1750 :  {'acc': 0.6265646498204638}\n",
      "tensor(1.0772, device='cuda:1', grad_fn=<NllLossBackward0>)\n",
      "1800 :  {'acc': 0.6278398603979999}\n",
      "tensor(1.0740, device='cuda:1', grad_fn=<NllLossBackward0>)\n",
      "1850 :  {'acc': 0.6290479546293499}\n",
      "tensor(1.0709, device='cuda:1', grad_fn=<NllLossBackward0>)\n",
      "1900 :  {'acc': 0.6270680224168597}\n",
      "tensor(1.0721, device='cuda:1', grad_fn=<NllLossBackward0>)\n",
      "1950 :  {'acc': 0.6254572301083929}\n"
     ]
    }
   ],
   "source": [
    "evaluator = Evaluator(name = \"ogbn-arxiv\")\n",
    "outputchan = graph.y.max().item()+1\n",
    "print(outputchan)\n",
    "model = pyg_nn.GraphSAGE(in_channels= 128, hidden_channels= 256, out_channels = outputchan, num_layers= 3, dropout = 0.5)\n",
    "model = model.to(device)\n",
    "opt = optim.Adam(model.parameters(), lr=0.01)\n",
    "loss_fn = nn.CrossEntropyLoss()\n",
    "\n",
    "bestDevScore = -1\n",
    "devScore=[]\n",
    "losstab=[]\n",
    "\n",
    "for epoch in range(2000):\n",
    "        \n",
    "        #Train Model        \n",
    "        model.train()        \n",
    "        opt.zero_grad()\n",
    "        pred = model(graph.x,graph.edge_index)\n",
    "        label = graph.y\n",
    "\n",
    "        # Mask node\n",
    "        pred = torch.index_select(pred, 0, train_idx)\n",
    "        label = torch.index_select(label, 0, train_idx)\n",
    "        \n",
    "        loss = loss_fn(pred,label.view(-1)) \n",
    "        loss.backward()\n",
    "        opt.step()\n",
    "        losstab.append(loss)\n",
    "        \n",
    "        \n",
    "        #Evaluate on dev\n",
    "        model.eval()\n",
    "        pred = model(graph.x,graph.edge_index)\n",
    "        label = graph.y\n",
    "        \n",
    "        # Mask node\n",
    "        pred = torch.index_select(pred, 0, dev_idx)\n",
    "        label = torch.index_select(label, 0, dev_idx)\n",
    "        \n",
    "        pred = pred.argmax(dim=1)\n",
    "        result_dict = evaluator.eval({\"y_true\": pred.view(-1,1).long(), \"y_pred\": label.long()})\n",
    "        devScore.append(result_dict['acc'])\n",
    "        if bestDevScore < result_dict['acc']:\n",
    "            bestDevScore = result_dict['acc']\n",
    "            torch.save(model.state_dict(),modelPath)\n",
    "            \n",
    "        if epoch % 50 == 0:\n",
    "            print(loss)\n",
    "            print(epoch,\": \", result_dict)\n",
    "     "
   ]
  },
  {
   "cell_type": "code",
   "execution_count": 6,
   "id": "6d9c7c29",
   "metadata": {},
   "outputs": [
    {
     "data": {
      "text/plain": [
       "[<matplotlib.lines.Line2D at 0x7f61900b7e50>]"
      ]
     },
     "execution_count": 6,
     "metadata": {},
     "output_type": "execute_result"
    },
    {
     "data": {
      "image/png": "[encoded data removed]",
      "text/plain": [
       "<Figure size 432x288 with 1 Axes>"
      ]
     },
     "metadata": {
      "needs_background": "light"
     },
     "output_type": "display_data"
    }
   ],
   "source": [
    "plt.plot(devScore)"
   ]
  },
  {
   "cell_type": "code",
   "execution_count": 8,
   "id": "bf596ca2",
   "metadata": {},
   "outputs": [
    {
     "name": "stdout",
     "output_type": "stream",
     "text": [
      "Dev score: 0.6310950031880265\n",
      "Test score: 0.5664465156471823\n"
     ]
    }
   ],
   "source": [
    "model = pyg_nn.GraphSAGE(in_channels= 128, hidden_channels= 256, out_channels = outputchan, num_layers= 3, dropout = 0.5)\n",
    "model.load_state_dict(torch.load(modelPath))\n",
    "model = model.to(device)\n",
    "\n",
    "model.eval()\n",
    "pred = model(graph.x,graph.edge_index)\n",
    "label = graph.y\n",
    "# Mask node\n",
    "pred = torch.index_select(pred, 0, dev_idx)\n",
    "label = torch.index_select(label, 0, dev_idx)\n",
    "pred = pred.argmax(dim=1)\n",
    "result_dict = evaluator.eval({\"y_true\": pred.view(-1,1).long(), \"y_pred\": label.long()})\n",
    "print(\"Dev score:\", result_dict[\"acc\"])\n",
    "\n",
    "model.eval()\n",
    "pred = model(graph.x,graph.edge_index)\n",
    "label = graph.y\n",
    "# Mask node\n",
    "pred = torch.index_select(pred, 0, test_idx)\n",
    "label = torch.index_select(label, 0, test_idx)\n",
    "pred = pred.argmax(dim=1)\n",
    "result_dict = evaluator.eval({\"y_true\": pred.view(-1,1).long(), \"y_pred\": label.long()})\n",
    "print(\"Test score:\", result_dict[\"acc\"])"
   ]
  },
  {
   "cell_type": "code",
   "execution_count": null,
   "id": "0796f5ed",
   "metadata": {},
   "outputs": [],
   "source": []
  }
 ],
 "metadata": {
  "kernelspec": {
   "display_name": "Python 3",
   "language": "python",
   "name": "python3"
  },
  "language_info": {
   "codemirror_mode": {
    "name": "ipython",
    "version": 3
   },
   "file_extension": ".py",
   "mimetype": "text/x-python",
   "name": "python",
   "nbconvert_exporter": "python",
   "pygments_lexer": "ipython3",
   "version": "3.9.5"
  }
 },
 "nbformat": 4,
 "nbformat_minor": 5
}
