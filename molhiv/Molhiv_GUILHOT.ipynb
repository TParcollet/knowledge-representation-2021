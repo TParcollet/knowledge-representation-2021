{
 "cells": [
  {
   "cell_type": "code",
   "execution_count": 1,
   "id": "b0bd6a6f",
   "metadata": {},
   "outputs": [],
   "source": [
    "from ogb.graphproppred import PygGraphPropPredDataset\n",
    "from ogb.graphproppred import Evaluator\n",
    "\n",
    "import torch\n",
    "from torch import nn\n",
    "from torch import Tensor\n",
    "import torch.optim as optim\n",
    "from torch.utils.tensorboard import SummaryWriter\n",
    "\n",
    "import torch_geometric.data as pyg_data\n",
    "from torch_geometric.data import DataLoader\n",
    "from torch_geometric.data import DataListLoader\n",
    "import torch_geometric.nn as pyg_nn\n",
    "import torch_geometric.utils as pyg_utils\n",
    "import torch_geometric.transforms as T\n",
    "\n",
    "import matplotlib.pyplot as plt"
   ]
  },
  {
   "cell_type": "code",
   "execution_count": 2,
   "id": "e971da8e",
   "metadata": {},
   "outputs": [
    {
     "name": "stdout",
     "output_type": "stream",
     "text": [
      "Device available for running: \n",
      "cuda\n",
      "1.10.1\n"
     ]
    }
   ],
   "source": [
    "device = torch.device(\"cuda\" if torch.cuda.is_available() else \"cpu\")\n",
    "print(\"Device available for running: \")\n",
    "print(device)\n",
    "print(torch.__version__)\n",
    "\n",
    "torch.use_deterministic_algorithms(False)\n",
    "torch.manual_seed(0)\n",
    "modelPath = \"BestMolhivPredGraphe.mdl\""
   ]
  },
  {
   "cell_type": "markdown",
   "id": "1a52d205",
   "metadata": {},
   "source": [
    "### Load Dataset"
   ]
  },
  {
   "cell_type": "code",
   "execution_count": 3,
   "id": "e4a64131",
   "metadata": {
    "scrolled": true
   },
   "outputs": [
    {
     "name": "stderr",
     "output_type": "stream",
     "text": [
      "/home/master/mia2004/miniconda3/lib/python3.9/site-packages/torch_geometric/deprecation.py:13: UserWarning: 'data.DataLoader' is deprecated, use 'loader.DataLoader' instead\n",
      "  warnings.warn(out)\n"
     ]
    }
   ],
   "source": [
    "dataset = PygGraphPropPredDataset(name = \"ogbg-molhiv\", root = 'dataset/')\n",
    "split_idx = dataset.get_idx_split()\n",
    "train = DataLoader(dataset[split_idx[\"train\"]], batch_size=32, shuffle=True)\n",
    "dev = DataLoader(dataset[split_idx[\"valid\"]], batch_size=32, shuffle=False)\n",
    "test = DataLoader(dataset[split_idx[\"test\"]], batch_size=32, shuffle=False)"
   ]
  },
  {
   "cell_type": "markdown",
   "id": "37f9b80d",
   "metadata": {},
   "source": [
    "### Train GIN Model"
   ]
  },
  {
   "cell_type": "code",
   "execution_count": 24,
   "id": "0c45fe05",
   "metadata": {
    "scrolled": false
   },
   "outputs": [
    {
     "name": "stdout",
     "output_type": "stream",
     "text": [
      "tensor(0.1997, device='cuda:0', grad_fn=<MseLossBackward0>)\n",
      "total_loss:  0.037653167674448505\n",
      "0 :  {'rocauc': 0.6461716759749168}\n",
      "total_loss:  0.0339854528422653\n",
      "10 :  {'rocauc': 0.6974788114834412}\n",
      "total_loss:  0.03320711195975708\n",
      "20 :  {'rocauc': 0.7430325911228688}\n",
      "total_loss:  0.03254783583843193\n",
      "30 :  {'rocauc': 0.760923415147952}\n",
      "total_loss:  0.0322890825052917\n",
      "40 :  {'rocauc': 0.7069769008426416}\n",
      "total_loss:  0.03223064214130986\n",
      "50 :  {'rocauc': 0.7536146017048794}\n",
      "total_loss:  0.03181432740096728\n",
      "60 :  {'rocauc': 0.7552083333333333}\n",
      "total_loss:  0.03150887029657933\n",
      "70 :  {'rocauc': 0.7347730501665686}\n",
      "total_loss:  0.03156712537394238\n",
      "80 :  {'rocauc': 0.7036761463844798}\n",
      "total_loss:  0.03154280638595508\n",
      "90 :  {'rocauc': 0.6397477586713698}\n",
      "total_loss:  0.031280589541007556\n",
      "100 :  {'rocauc': 0.6987816602978638}\n",
      "total_loss:  0.03132693228340398\n",
      "110 :  {'rocauc': 0.7030790711346266}\n",
      "total_loss:  0.031190918027840953\n",
      "120 :  {'rocauc': 0.7342157799333724}\n",
      "total_loss:  0.031008712318886526\n",
      "130 :  {'rocauc': 0.6832056510875956}\n",
      "total_loss:  0.03106868294317552\n",
      "140 :  {'rocauc': 0.7381396359984322}\n"
     ]
    }
   ],
   "source": [
    "evaluator = Evaluator(name = \"ogbg-molhiv\")\n",
    "model = pyg_nn.GIN(in_channels= 9, hidden_channels= 32, out_channels = 1, num_layers= 5, dropout = 0.5)\n",
    "model = model.to(device)\n",
    "opt = optim.Adam(model.parameters(), lr=0.001)\n",
    "loss_fn = torch.nn.MSELoss()\n",
    "\n",
    "bestDevScore = -1\n",
    "devScore=[]\n",
    "losstab=[]\n",
    "\n",
    "for epoch in range(150):\n",
    "        \n",
    "        #Train Model        \n",
    "        model.train()\n",
    "        for batch in train:\n",
    "            opt.zero_grad()\n",
    "            x,edge_index,batchb = batch.x.float().to(device),batch.edge_index.to(device),batch.batch.to(device)\n",
    "            pred = pyg_nn.global_mean_pool(model(x,edge_index), batchb)\n",
    "            label = batch.y.float().to(device)\n",
    "            loss = loss_fn(pred,label)\n",
    "            loss.backward()\n",
    "            opt.step()\n",
    "        losstab.append(loss)\n",
    "        \n",
    "        #Evaluate on dev\n",
    "        model.eval()\n",
    "        devpred = Tensor().to(device)\n",
    "        devlabel = Tensor().to(device)\n",
    "        for batch in dev:\n",
    "            x,edge_index,batchb = batch.x.float().to(device),batch.edge_index.to(device),batch.batch.to(device)\n",
    "            pred = pyg_nn.global_mean_pool(model(x,edge_index), batchb)\n",
    "            label = batch.y.float().to(device)\n",
    "            devpred = torch.cat((devpred,pred),0)\n",
    "            devlabel = torch.cat((devlabel,label),0)\n",
    "#             print(pred.shape,label.shape,devpred.shape,devlabel.shape)\n",
    "        result_dict = evaluator.eval({\"y_true\": devlabel, \"y_pred\": devpred})\n",
    "        devScore.append(result_dict['rocauc'])\n",
    "        if bestDevScore < result_dict['rocauc']:\n",
    "            bestDevScore = result_dict['rocauc']\n",
    "            torch.save(model.state_dict(),modelPath)\n",
    "            \n",
    "        if epoch % 10 == 0:\n",
    "            print(epoch,\": \", result_dict)\n",
    "     \n",
    "     "
   ]
  },
  {
   "cell_type": "markdown",
   "id": "869669c7",
   "metadata": {},
   "source": [
    "### Visualize dev score evolution"
   ]
  },
  {
   "cell_type": "code",
   "execution_count": 25,
   "id": "48efd876",
   "metadata": {
    "scrolled": true
   },
   "outputs": [
    {
     "data": {
      "text/plain": [
       "[<matplotlib.lines.Line2D at 0x7f26a7876f10>]"
      ]
     },
     "execution_count": 25,
     "metadata": {},
     "output_type": "execute_result"
    },
    {
     "data": {
      "image/png": "[encoded data removed]",
      "text/plain": [
       "<Figure size 432x288 with 1 Axes>"
      ]
     },
     "metadata": {
      "needs_background": "light"
     },
     "output_type": "display_data"
    }
   ],
   "source": [
    "plt.plot(devScore)"
   ]
  },
  {
   "cell_type": "markdown",
   "id": "81e68b5c",
   "metadata": {},
   "source": [
    "### Evaluate on dev and train dataset"
   ]
  },
  {
   "cell_type": "code",
   "execution_count": 31,
   "id": "4d2d7d82",
   "metadata": {},
   "outputs": [
    {
     "name": "stdout",
     "output_type": "stream",
     "text": [
      "Dev score: 0.767636684303351\n",
      "Test score: 0.7402943278162961\n"
     ]
    }
   ],
   "source": [
    "model = pyg_nn.GIN(in_channels= 9, hidden_channels= 32, out_channels = 1, num_layers= 5, dropout = 0.5)\n",
    "model.load_state_dict(torch.load(modelPath))\n",
    "model = model.to(device)\n",
    "\n",
    "model.eval()\n",
    "devpred = Tensor().to(device)\n",
    "devlabel = Tensor().to(device)\n",
    "for batch in dev:\n",
    "    x,edge_index,batchb = batch.x.float().to(device),batch.edge_index.to(device),batch.batch.to(device)\n",
    "    pred = pyg_nn.global_mean_pool(model(x,edge_index), batchb)\n",
    "    label = batch.y.float().to(device)\n",
    "    devpred = torch.cat((devpred,pred),0)\n",
    "    devlabel = torch.cat((devlabel,label),0)\n",
    "#             print(pred.shape,label.shape,devpred.shape,devlabel.shape)\n",
    "result_dict = evaluator.eval({\"y_true\": devlabel, \"y_pred\": devpred})\n",
    "\n",
    "print(\"Dev score:\", result_dict[\"rocauc\"])\n",
    "\n",
    "testpred = Tensor().to(device)\n",
    "testlabel = Tensor().to(device)\n",
    "for batch in test:\n",
    "    x,edge_index,batchb = batch.x.float().to(device),batch.edge_index.to(device),batch.batch.to(device)\n",
    "    pred = pyg_nn.global_mean_pool(model(x,edge_index), batchb)\n",
    "    label = batch.y.float().to(device)\n",
    "    testpred = torch.cat((testpred,pred),0)\n",
    "    testlabel = torch.cat((testlabel,label),0)\n",
    "#             print(pred.shape,label.shape,devpred.shape,devlabel.shape)\n",
    "result_dict = evaluator.eval({\"y_true\": testlabel, \"y_pred\": testpred})\n",
    "\n",
    "print(\"Test score:\", result_dict[\"rocauc\"])"
   ]
  },
  {
   "cell_type": "code",
   "execution_count": null,
   "id": "81476251",
   "metadata": {},
   "outputs": [],
   "source": []
  }
 ],
 "metadata": {
  "kernelspec": {
   "display_name": "Python 3",
   "language": "python",
   "name": "python3"
  },
  "language_info": {
   "codemirror_mode": {
    "name": "ipython",
    "version": 3
   },
   "file_extension": ".py",
   "mimetype": "text/x-python",
   "name": "python",
   "nbconvert_exporter": "python",
   "pygments_lexer": "ipython3",
   "version": "3.9.5"
  }
 },
 "nbformat": 4,
 "nbformat_minor": 5
}
